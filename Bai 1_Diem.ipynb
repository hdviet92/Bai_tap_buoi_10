{
 "cells": [
  {
   "cell_type": "code",
   "execution_count": 1,
   "id": "3fa712f1",
   "metadata": {},
   "outputs": [
    {
     "name": "stdout",
     "output_type": "stream",
     "text": [
      "Điểm 15': 8\n",
      "Điểm 1 tiết: 8\n",
      "Điểm cuối kỳ: 8\n",
      "Điểm tổng kết: 8.0 xếp loại Giỏi\n"
     ]
    }
   ],
   "source": [
    "# Nhập dữ liệu\n",
    "d15 = float(input(\"Điểm 15': \"))\n",
    "d1t = float(input(\"Điểm 1 tiết: \"))\n",
    "dck = float(input(\"Điểm cuối kỳ: \"))\n",
    "\n",
    "# Hệ số theo thang điểm\n",
    "hs1 = 1\n",
    "hs2 = 1.5\n",
    "hs3 = 2\n",
    "\n",
    "# Điểm tổng kết\n",
    "dtk = round((d15*hs1 + d1t*hs2 + dck*hs3)/(hs1 + hs2 + hs3),1)\n",
    "\n",
    "if d15 < 0 or d1t < 0 or dck < 0:\n",
    "    print ('Erorr!')\n",
    "else:\n",
    "    if dtk < 5:\n",
    "        print ('Điểm tổng kết: {dtk} xếp loại Yếu'.format(dtk=dtk))\n",
    "    elif dtk < 6.5:\n",
    "        print ('Điểm tổng kết: {dtk} xếp loại Trung bình'.format(dtk=dtk))\n",
    "    elif dtk < 8:\n",
    "        print ('Điểm tổng kết: {dtk} xếp loại Khá'.format(dtk=dtk))\n",
    "    elif dtk >= 8:\n",
    "        print ('Điểm tổng kết: {dtk} xếp loại Giỏi'.format(dtk=dtk))\n",
    "\n",
    "\n",
    "\n",
    "\n",
    "\n"
   ]
  }
 ],
 "metadata": {
  "kernelspec": {
   "display_name": "Python 3 (ipykernel)",
   "language": "python",
   "name": "python3"
  },
  "language_info": {
   "codemirror_mode": {
    "name": "ipython",
    "version": 3
   },
   "file_extension": ".py",
   "mimetype": "text/x-python",
   "name": "python",
   "nbconvert_exporter": "python",
   "pygments_lexer": "ipython3",
   "version": "3.9.7"
  }
 },
 "nbformat": 4,
 "nbformat_minor": 5
}

{
 "cells": [
  {
   "cell_type": "code",
   "execution_count": 1,
   "id": "3fa712f1",
   "metadata": {
    "scrolled": true
   },
   "outputs": [
    {
     "name": "stdout",
     "output_type": "stream",
     "text": [
      "Điểm 15': 6 7 8\n",
      "Điểm 1 tiết: 8 8\n",
      "Điểm cuối kỳ: 8\n",
      "Điểm tổng kết: 7.6 xếp loại Khá\n"
     ]
    }
   ],
   "source": [
    "# Nhập dữ liệu\n",
    "# Điểm 15 phút\n",
    "d15 = input(\"Điểm 15': \").strip()\n",
    "d15 = d15.split(' ')\n",
    "d151 = d15[0]\n",
    "d152 = d15[1]\n",
    "d153 = d15[2]\n",
    "    \n",
    "# Điểm 1 tiết\n",
    "d45 = input(\"Điểm 1 tiết: \").strip()\n",
    "d45 = d45.split(' ')\n",
    "d451 = d45[0]\n",
    "d452 = d45[1]\n",
    "    \n",
    "# Điểm cuối kỳ\n",
    "dck = input(\"Điểm cuối kỳ: \").strip()\n",
    "\n",
    "# Tính điểm tổng kết\n",
    "# Điều kiện dữ liệu đầu vào\n",
    "if d151.replace('.','',1).isdigit()==True and d152.replace('.','',1).isdigit()==True and d153.replace('.','',1).isdigit()==True and d451.replace('.','',1).isdigit()==True and d452.replace('.','',1).isdigit()==True and dck.replace('.','',1).isdigit()==True:\n",
    "    d151 = float(d15[0])\n",
    "    d152 = float(d15[1])\n",
    "    d153 = float(d15[2])\n",
    "    d451 = float(d45[0])\n",
    "    d452 = float(d45[1])\n",
    "    dck = float(dck)\n",
    "\n",
    "    # Hệ số theo thang điểm\n",
    "    hs1 = 1\n",
    "    hs2 = 1.5\n",
    "    hs3 = 2\n",
    "\n",
    "    # Công thức Điểm tổng kết\n",
    "    dtk = round(((d151+d152+d153)*hs1 + (d451+d452)*hs2 + dck*hs3)/(3*hs1 + 2*hs2 + hs3),1)\n",
    "\n",
    "    # Xếp loại Điểm tổng kết\n",
    "    if dtk < 5:\n",
    "        print ('Điểm tổng kết: {dtk} xếp loại Yếu'.format(dtk=dtk))\n",
    "    elif dtk < 6.5:\n",
    "        print ('Điểm tổng kết: {dtk} xếp loại Trung bình'.format(dtk=dtk))\n",
    "    elif dtk < 8:\n",
    "        print ('Điểm tổng kết: {dtk} xếp loại Khá'.format(dtk=dtk))\n",
    "    elif dtk >= 8:\n",
    "        print ('Điểm tổng kết: {dtk} xếp loại Giỏi'.format(dtk=dtk))\n",
    "\n",
    "else:\n",
    "       print('Erorr!')\n",
    "\n",
    "\n",
    "\n"
   ]
  }
 ],
 "metadata": {
  "kernelspec": {
   "display_name": "Python 3 (ipykernel)",
   "language": "python",
   "name": "python3"
  },
  "language_info": {
   "codemirror_mode": {
    "name": "ipython",
    "version": 3
   },
   "file_extension": ".py",
   "mimetype": "text/x-python",
   "name": "python",
   "nbconvert_exporter": "python",
   "pygments_lexer": "ipython3",
   "version": "3.9.7"
  }
 },
 "nbformat": 4,
 "nbformat_minor": 5
}
